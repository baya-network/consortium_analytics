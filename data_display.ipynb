{
 "cells": [
  {
   "cell_type": "code",
   "execution_count": 124,
   "metadata": {},
   "outputs": [],
   "source": [
    "from BldgFinder import BldgFinder"
   ]
  },
  {
   "cell_type": "markdown",
   "metadata": {},
   "source": [
    "## -------------------------------------------------------------------"
   ]
  },
  {
   "cell_type": "code",
   "execution_count": 127,
   "metadata": {},
   "outputs": [],
   "source": [
    "test_addresses = [\"1 New Fetter Lane London\", \"62 Mittelstraße Berlin 10117 DE\", \"21 Mittelstraße Berlin 10117 DE\",\n",
    "                  \"164 Friedrichstraße Berlin\", \"18 Bloomsbury Square\", \"9 Bloomsbury Street\", \"374 Rue Saint-Honore Paris\"]"
   ]
  },
  {
   "cell_type": "code",
   "execution_count": 126,
   "metadata": {},
   "outputs": [
    {
     "name": "stdout",
     "output_type": "stream",
     "text": [
      "Retrieved 20,458 bldgs in London\n"
     ]
    }
   ],
   "source": [
    "mapper = BldgFinder('london')"
   ]
  },
  {
   "cell_type": "code",
   "execution_count": 129,
   "metadata": {},
   "outputs": [
    {
     "name": "stdout",
     "output_type": "stream",
     "text": [
      "Address not found.\n",
      "Make sure the address (62 Mittelstraße Berlin 10117 DE) belongs to London, GB\n"
     ]
    },
    {
     "ename": "SystemExit",
     "evalue": "",
     "output_type": "error",
     "traceback": [
      "An exception has occurred, use %tb to see the full traceback.\n",
      "\u001b[0;31mSystemExit\u001b[0m\n"
     ]
    }
   ],
   "source": [
    "mapper.find(test_addresses[1])"
   ]
  },
  {
   "cell_type": "code",
   "execution_count": null,
   "metadata": {},
   "outputs": [],
   "source": []
  },
  {
   "cell_type": "markdown",
   "metadata": {},
   "source": [
    "## OLD code (pre-class)"
   ]
  },
  {
   "cell_type": "code",
   "execution_count": 1256,
   "metadata": {},
   "outputs": [],
   "source": [
    "# TODO: restrict search by country\n",
    "\n",
    "\n",
    "def get_closest_bldg(obj):\n",
    "#     if len(res) > 1:\n",
    "#         res = [obj for obj in res if obj['geojson']['type']=='Point'][0]\n",
    "#     if len(res)==0:\n",
    "#         return None\n",
    "    gj = obj['geojson']\n",
    "        \n",
    "    if (gj['type'] == 'Point'):\n",
    "        closest_bldg = gcomb[gcomb.geometry.intersects(Point(gj['coordinates']))]\n",
    "\n",
    "        if not closest_bldg.empty:\n",
    "            print(\"pin inside bldg\")\n",
    "            return closest_bldg\n",
    "        else:\n",
    "            print(\"pin outside, used closest bldg\")\n",
    "            closest_bldg = gcomb.loc[gcomb.geometry.distance(Point(gj['coordinates'])).sort_values(ascending=True)[:1].index, :]\n",
    "            return closest_bldg\n",
    "    else:\n",
    "        print(\"poly: centroid to centroid closest bldg\")\n",
    "        closest_bldg = gcomb.loc[gcomb.centroid.distance(Point(float(obj['lon']), float(obj['lat']))).sort_values(ascending=True)[:1].index, :]\n",
    "        return closest_bldg\n",
    "\n",
    "\n",
    "    \n",
    "def create_text_box(obj, dfdict):\n",
    "    pophtml = \"\"\"\n",
    "        <h3> {title} </h3>\n",
    "        <b>Baya ID:</b> {bid}<br>\n",
    "        Country: {country}<br>\n",
    "        \"\"\".format(title=', '.join(obj['display_name'].split(',')[:3]), \n",
    "                   bid=dfdict['id'], country=obj['address']['country'])\n",
    "    for k,v in dfdict.items():\n",
    "        if ('id' not in k) and ('country' not in k):\n",
    "            pophtml = pophtml + \"{}: {}<br>\".format(k,v)\n",
    "    return pophtml    \n",
    "    \n",
    "\n",
    "# TODO: unprint comment statemetns\n",
    "def make_map(obj, closest_bldg, pophtml):\n",
    "    # creates map\n",
    "    bldg_poly = None\n",
    "    gj = obj['geojson']\n",
    "    address = obj['address']\n",
    "    \n",
    "    test_map = folium.Map(location=[float(obj['lat']), float(obj['lon'])], zoom_start=16)\n",
    "    \n",
    "#     if len(res) > 1:\n",
    "#         res = [obj for obj in res if obj['geojson']['type']=='Point'][0]\n",
    "#     if len(res)==0:\n",
    "#         return None\n",
    "\n",
    "    obj_point = folium.Marker(location = (float(obj['lat']), float(obj['lon'])), color='red')\n",
    "    obj_point.add_to(test_map)\n",
    "    \n",
    "\n",
    "    if (gj['type'] == 'Point'):\n",
    "        # creates a pin for the bldg\n",
    "#         obj_point = folium.Marker(location = (gj['coordinates'][1], gj['coordinates'][0]), color='red')\n",
    "#         obj_point.add_to(test_map)\n",
    "\n",
    "        # delineates the surrounding/closest bldg polygon\n",
    "        bldg_poly = folium.Polygon(locations = closest_bldg.geo_inv.values.tolist(),\n",
    "                               color=\"red\", fill=True, fill_color='#FF0000',\n",
    "#                              address['house_number']+' '+address['road']+', '+address['suburb']\n",
    "                               tooltip=folium.Tooltip(', '.join(obj['display_name'].split(',')[:3])),\n",
    "                               popup=folium.Popup(create_text_box(obj, closest_bldg.iloc[:, :-3].drop('geo', axis=1).dropna(axis=1).to_dict(orient='rows')[0]), \n",
    "                                                     max_width=300))\n",
    "        bldg_poly.add_to(test_map)\n",
    "    \n",
    "    if (gj['type'] == 'Polygon' and not bldg_poly):\n",
    "        obj_poly = folium.Polygon(locations = [[ (a[1],a[0]) for a in b] for b in gj['coordinates']], \n",
    "                                  color=\"red\", fill=True, fill_color='#FF0000',\n",
    "                                  tooltip=folium.Tooltip(', '.join(obj['display_name'].split(',')[:3])),\n",
    "                                  popup=folium.Popup(create_text_box(obj, closest_bldg.iloc[:, :-3].drop('geo', axis=1).dropna(axis=1).to_dict(orient='rows')[0]), \n",
    "                                                     max_width=300))\n",
    "        obj_poly.add_to(test_map)\n",
    "        \n",
    "        \n",
    "      \n",
    "    display(test_map)\n",
    "\n"
   ]
  },
  {
   "cell_type": "code",
   "execution_count": 1257,
   "metadata": {},
   "outputs": [],
   "source": [
    "test_addresses = [\"1 New Fetter Lane London\", \"62 Mittelstraße Berlin 10117 DE\", \"21 Mittelstraße Berlin 10117 DE\",\n",
    "                  \"164 Friedrichstraße Berlin\", \"18 Bloomsbury Square\", \"9 Bloomsbury Street\", \"374 Rue Saint-Honore Paris\"]"
   ]
  },
  {
   "cell_type": "code",
   "execution_count": 1258,
   "metadata": {},
   "outputs": [
    {
     "data": {
      "text/plain": [
       "'374 Rue Saint-Honore Paris'"
      ]
     },
     "execution_count": 1258,
     "metadata": {},
     "output_type": "execute_result"
    }
   ],
   "source": [
    "test_addresses[6]"
   ]
  },
  {
   "cell_type": "code",
   "execution_count": 1259,
   "metadata": {},
   "outputs": [
    {
     "data": {
      "text/plain": [
       "[]"
      ]
     },
     "execution_count": 1259,
     "metadata": {},
     "output_type": "execute_result"
    }
   ],
   "source": [
    "res"
   ]
  },
  {
   "cell_type": "code",
   "execution_count": 1261,
   "metadata": {
    "scrolled": false
   },
   "outputs": [
    {
     "name": "stdout",
     "output_type": "stream",
     "text": [
      "pin inside bldg\n"
     ]
    },
    {
     "data": {
      "text/html": [
       "<div style=\"width:100%;\"><div style=\"position:relative;width:100%;height:0;padding-bottom:60%;\"><iframe src=\"data:text/html;charset=utf-8;base64,PCFET0NUWVBFIGh0bWw+CjxoZWFkPiAgICAKICAgIDxtZXRhIGh0dHAtZXF1aXY9ImNvbnRlbnQtdHlwZSIgY29udGVudD0idGV4dC9odG1sOyBjaGFyc2V0PVVURi04IiAvPgogICAgCiAgICAgICAgPHNjcmlwdD4KICAgICAgICAgICAgTF9OT19UT1VDSCA9IGZhbHNlOwogICAgICAgICAgICBMX0RJU0FCTEVfM0QgPSBmYWxzZTsKICAgICAgICA8L3NjcmlwdD4KICAgIAogICAgPHNjcmlwdCBzcmM9Imh0dHBzOi8vY2RuLmpzZGVsaXZyLm5ldC9ucG0vbGVhZmxldEAxLjUuMS9kaXN0L2xlYWZsZXQuanMiPjwvc2NyaXB0PgogICAgPHNjcmlwdCBzcmM9Imh0dHBzOi8vY29kZS5qcXVlcnkuY29tL2pxdWVyeS0xLjEyLjQubWluLmpzIj48L3NjcmlwdD4KICAgIDxzY3JpcHQgc3JjPSJodHRwczovL21heGNkbi5ib290c3RyYXBjZG4uY29tL2Jvb3RzdHJhcC8zLjIuMC9qcy9ib290c3RyYXAubWluLmpzIj48L3NjcmlwdD4KICAgIDxzY3JpcHQgc3JjPSJodHRwczovL2NkbmpzLmNsb3VkZmxhcmUuY29tL2FqYXgvbGlicy9MZWFmbGV0LmF3ZXNvbWUtbWFya2Vycy8yLjAuMi9sZWFmbGV0LmF3ZXNvbWUtbWFya2Vycy5qcyI+PC9zY3JpcHQ+CiAgICA8bGluayByZWw9InN0eWxlc2hlZXQiIGhyZWY9Imh0dHBzOi8vY2RuLmpzZGVsaXZyLm5ldC9ucG0vbGVhZmxldEAxLjUuMS9kaXN0L2xlYWZsZXQuY3NzIi8+CiAgICA8bGluayByZWw9InN0eWxlc2hlZXQiIGhyZWY9Imh0dHBzOi8vbWF4Y2RuLmJvb3RzdHJhcGNkbi5jb20vYm9vdHN0cmFwLzMuMi4wL2Nzcy9ib290c3RyYXAubWluLmNzcyIvPgogICAgPGxpbmsgcmVsPSJzdHlsZXNoZWV0IiBocmVmPSJodHRwczovL21heGNkbi5ib290c3RyYXBjZG4uY29tL2Jvb3RzdHJhcC8zLjIuMC9jc3MvYm9vdHN0cmFwLXRoZW1lLm1pbi5jc3MiLz4KICAgIDxsaW5rIHJlbD0ic3R5bGVzaGVldCIgaHJlZj0iaHR0cHM6Ly9tYXhjZG4uYm9vdHN0cmFwY2RuLmNvbS9mb250LWF3ZXNvbWUvNC42LjMvY3NzL2ZvbnQtYXdlc29tZS5taW4uY3NzIi8+CiAgICA8bGluayByZWw9InN0eWxlc2hlZXQiIGhyZWY9Imh0dHBzOi8vY2RuanMuY2xvdWRmbGFyZS5jb20vYWpheC9saWJzL0xlYWZsZXQuYXdlc29tZS1tYXJrZXJzLzIuMC4yL2xlYWZsZXQuYXdlc29tZS1tYXJrZXJzLmNzcyIvPgogICAgPGxpbmsgcmVsPSJzdHlsZXNoZWV0IiBocmVmPSJodHRwczovL3Jhd2Nkbi5naXRoYWNrLmNvbS9weXRob24tdmlzdWFsaXphdGlvbi9mb2xpdW0vbWFzdGVyL2ZvbGl1bS90ZW1wbGF0ZXMvbGVhZmxldC5hd2Vzb21lLnJvdGF0ZS5jc3MiLz4KICAgIDxzdHlsZT5odG1sLCBib2R5IHt3aWR0aDogMTAwJTtoZWlnaHQ6IDEwMCU7bWFyZ2luOiAwO3BhZGRpbmc6IDA7fTwvc3R5bGU+CiAgICA8c3R5bGU+I21hcCB7cG9zaXRpb246YWJzb2x1dGU7dG9wOjA7Ym90dG9tOjA7cmlnaHQ6MDtsZWZ0OjA7fTwvc3R5bGU+CiAgICAKICAgICAgICAgICAgPG1ldGEgbmFtZT0idmlld3BvcnQiIGNvbnRlbnQ9IndpZHRoPWRldmljZS13aWR0aCwKICAgICAgICAgICAgICAgIGluaXRpYWwtc2NhbGU9MS4wLCBtYXhpbXVtLXNjYWxlPTEuMCwgdXNlci1zY2FsYWJsZT1ubyIgLz4KICAgICAgICAgICAgPHN0eWxlPgogICAgICAgICAgICAgICAgI21hcF8xYzgwY2ZjNjZkOTU0MDA4YTMxYTc0YzVmYTg0ODk1OCB7CiAgICAgICAgICAgICAgICAgICAgcG9zaXRpb246IHJlbGF0aXZlOwogICAgICAgICAgICAgICAgICAgIHdpZHRoOiAxMDAuMCU7CiAgICAgICAgICAgICAgICAgICAgaGVpZ2h0OiAxMDAuMCU7CiAgICAgICAgICAgICAgICAgICAgbGVmdDogMC4wJTsKICAgICAgICAgICAgICAgICAgICB0b3A6IDAuMCU7CiAgICAgICAgICAgICAgICB9CiAgICAgICAgICAgIDwvc3R5bGU+CiAgICAgICAgCjwvaGVhZD4KPGJvZHk+ICAgIAogICAgCiAgICAgICAgICAgIDxkaXYgY2xhc3M9ImZvbGl1bS1tYXAiIGlkPSJtYXBfMWM4MGNmYzY2ZDk1NDAwOGEzMWE3NGM1ZmE4NDg5NTgiID48L2Rpdj4KICAgICAgICAKPC9ib2R5Pgo8c2NyaXB0PiAgICAKICAgIAogICAgICAgICAgICB2YXIgbWFwXzFjODBjZmM2NmQ5NTQwMDhhMzFhNzRjNWZhODQ4OTU4ID0gTC5tYXAoCiAgICAgICAgICAgICAgICAibWFwXzFjODBjZmM2NmQ5NTQwMDhhMzFhNzRjNWZhODQ4OTU4IiwKICAgICAgICAgICAgICAgIHsKICAgICAgICAgICAgICAgICAgICBjZW50ZXI6IFs0OC44NjczODM5LCAyLjMyNjcyNDJdLAogICAgICAgICAgICAgICAgICAgIGNyczogTC5DUlMuRVBTRzM4NTcsCiAgICAgICAgICAgICAgICAgICAgem9vbTogMTYsCiAgICAgICAgICAgICAgICAgICAgem9vbUNvbnRyb2w6IHRydWUsCiAgICAgICAgICAgICAgICAgICAgcHJlZmVyQ2FudmFzOiBmYWxzZSwKICAgICAgICAgICAgICAgIH0KICAgICAgICAgICAgKTsKCiAgICAgICAgICAgIAoKICAgICAgICAKICAgIAogICAgICAgICAgICB2YXIgdGlsZV9sYXllcl81NTFjNGI3YTQyNjg0Y2IwYjcwY2ExZTU1ZDkwZWMzYyA9IEwudGlsZUxheWVyKAogICAgICAgICAgICAgICAgImh0dHBzOi8ve3N9LnRpbGUub3BlbnN0cmVldG1hcC5vcmcve3p9L3t4fS97eX0ucG5nIiwKICAgICAgICAgICAgICAgIHsiYXR0cmlidXRpb24iOiAiRGF0YSBieSBcdTAwMjZjb3B5OyBcdTAwM2NhIGhyZWY9XCJodHRwOi8vb3BlbnN0cmVldG1hcC5vcmdcIlx1MDAzZU9wZW5TdHJlZXRNYXBcdTAwM2MvYVx1MDAzZSwgdW5kZXIgXHUwMDNjYSBocmVmPVwiaHR0cDovL3d3dy5vcGVuc3RyZWV0bWFwLm9yZy9jb3B5cmlnaHRcIlx1MDAzZU9EYkxcdTAwM2MvYVx1MDAzZS4iLCAiZGV0ZWN0UmV0aW5hIjogZmFsc2UsICJtYXhOYXRpdmVab29tIjogMTgsICJtYXhab29tIjogMTgsICJtaW5ab29tIjogMCwgIm5vV3JhcCI6IGZhbHNlLCAib3BhY2l0eSI6IDEsICJzdWJkb21haW5zIjogImFiYyIsICJ0bXMiOiBmYWxzZX0KICAgICAgICAgICAgKS5hZGRUbyhtYXBfMWM4MGNmYzY2ZDk1NDAwOGEzMWE3NGM1ZmE4NDg5NTgpOwogICAgICAgIAogICAgCiAgICAgICAgICAgIHZhciBtYXJrZXJfNDIyNzI4MzRhMTM2NGU2ZDgxMjUyN2I4MWI5OGEwNjMgPSBMLm1hcmtlcigKICAgICAgICAgICAgICAgIFs0OC44NjczODM5LCAyLjMyNjcyNDJdLAogICAgICAgICAgICAgICAgeyJjb2xvciI6ICJyZWQifQogICAgICAgICAgICApLmFkZFRvKG1hcF8xYzgwY2ZjNjZkOTU0MDA4YTMxYTc0YzVmYTg0ODk1OCk7CiAgICAgICAgCiAgICAKICAgICAgICAgICAgdmFyIHBvbHlnb25fNWJlYTFkNWE5ZTkxNGQyMWFmNDMwMWE2NTE2ZDg5ODUgPSBMLnBvbHlnb24oCiAgICAgICAgICAgICAgICBbW1s0OC44NjczOSwgMi4zMjY2MDFdLCBbNDguODY3NDk3LCAyLjMyNjY5NV0sIFs0OC44Njc1ODgsIDIuMzI2Nzc3XSwgWzQ4Ljg2NzU5NiwgMi4zMjY3ODNdLCBbNDguODY3NjExLCAyLjMyNjc5Nl0sIFs0OC44Njc2ODksIDIuMzI2ODY3XSwgWzQ4Ljg2NzY4MSwgMi4zMjY4ODRdLCBbNDguODY3NjYsIDIuMzI2OTMzXSwgWzQ4Ljg2NzUxNiwgMi4zMjY4MDVdLCBbNDguODY3NDU0LCAyLjMyNjk1NF0sIFs0OC44NjczMjIsIDIuMzI2ODM2XSwgWzQ4Ljg2NzM1NywgMi4zMjY3MTRdLCBbNDguODY3MzksIDIuMzI2NjAxXV1dLAogICAgICAgICAgICAgICAgeyJidWJibGluZ01vdXNlRXZlbnRzIjogdHJ1ZSwgImNvbG9yIjogInJlZCIsICJkYXNoQXJyYXkiOiBudWxsLCAiZGFzaE9mZnNldCI6IG51bGwsICJmaWxsIjogdHJ1ZSwgImZpbGxDb2xvciI6ICIjRkYwMDAwIiwgImZpbGxPcGFjaXR5IjogMC4yLCAiZmlsbFJ1bGUiOiAiZXZlbm9kZCIsICJsaW5lQ2FwIjogInJvdW5kIiwgImxpbmVKb2luIjogInJvdW5kIiwgIm5vQ2xpcCI6IGZhbHNlLCAib3BhY2l0eSI6IDEuMCwgInNtb290aEZhY3RvciI6IDEuMCwgInN0cm9rZSI6IHRydWUsICJ3ZWlnaHQiOiAzfQogICAgICAgICAgICApLmFkZFRvKG1hcF8xYzgwY2ZjNjZkOTU0MDA4YTMxYTc0YzVmYTg0ODk1OCk7CiAgICAgICAgCiAgICAKICAgICAgICB2YXIgcG9wdXBfNmI0ZWRiMDAwYzYxNDVjOGFiODBjYzE5MWM1OTI5NmMgPSBMLnBvcHVwKHsibWF4V2lkdGgiOiAzMDB9KTsKCiAgICAgICAgCiAgICAgICAgICAgIHZhciBodG1sX2IzMzQ2MDU0NDExODRkZmVhMTJjYmE2ZDAwYmZhNjQ5ID0gJChgPGRpdiBpZD0iaHRtbF9iMzM0NjA1NDQxMTg0ZGZlYTEyY2JhNmQwMGJmYTY0OSIgc3R5bGU9IndpZHRoOiAxMDAuMCU7IGhlaWdodDogMTAwLjAlOyI+ICAgICAgICAgPGgzPiBaYXJhLCAgMzc0LCAgUnVlIFNhaW50LUhvbm9yw6kgPC9oMz4gICAgICAgICA8Yj5CYXlhIElEOjwvYj4gNTQxNzUyNTg8YnI+ICAgICAgICAgQ291bnRyeTogRnJhbmNlPGJyPiAgICAgICAgIGxldmVsczogNC4wPGJyPjwvZGl2PmApWzBdOwogICAgICAgICAgICBwb3B1cF82YjRlZGIwMDBjNjE0NWM4YWI4MGNjMTkxYzU5Mjk2Yy5zZXRDb250ZW50KGh0bWxfYjMzNDYwNTQ0MTE4NGRmZWExMmNiYTZkMDBiZmE2NDkpOwogICAgICAgIAoKICAgICAgICBwb2x5Z29uXzViZWExZDVhOWU5MTRkMjFhZjQzMDFhNjUxNmQ4OTg1LmJpbmRQb3B1cChwb3B1cF82YjRlZGIwMDBjNjE0NWM4YWI4MGNjMTkxYzU5Mjk2YykKICAgICAgICA7CgogICAgICAgIAogICAgCiAgICAKICAgICAgICAgICAgcG9seWdvbl81YmVhMWQ1YTllOTE0ZDIxYWY0MzAxYTY1MTZkODk4NS5iaW5kVG9vbHRpcCgKICAgICAgICAgICAgICAgIGA8ZGl2PgogICAgICAgICAgICAgICAgICAgICBaYXJhLCAgMzc0LCAgUnVlIFNhaW50LUhvbm9yw6kKICAgICAgICAgICAgICAgICA8L2Rpdj5gLAogICAgICAgICAgICAgICAgeyJzdGlja3kiOiB0cnVlfQogICAgICAgICAgICApOwogICAgICAgIAo8L3NjcmlwdD4=\" style=\"position:absolute;width:100%;height:100%;left:0;top:0;border:none !important;\" allowfullscreen webkitallowfullscreen mozallowfullscreen></iframe></div></div>"
      ],
      "text/plain": [
       "<folium.folium.Map at 0x1469ee940>"
      ]
     },
     "metadata": {},
     "output_type": "display_data"
    }
   ],
   "source": [
    "res = make_calls_to_Nominatim(test_addresses[6]) #test_addresses[3])\n",
    "cb = get_closest_bldg(res[0])\n",
    "make_map(res[0], cb, pophtml)"
   ]
  },
  {
   "cell_type": "code",
   "execution_count": null,
   "metadata": {},
   "outputs": [],
   "source": []
  },
  {
   "cell_type": "code",
   "execution_count": null,
   "metadata": {},
   "outputs": [],
   "source": []
  },
  {
   "cell_type": "code",
   "execution_count": null,
   "metadata": {},
   "outputs": [],
   "source": []
  },
  {
   "cell_type": "code",
   "execution_count": null,
   "metadata": {},
   "outputs": [],
   "source": []
  },
  {
   "cell_type": "code",
   "execution_count": null,
   "metadata": {},
   "outputs": [],
   "source": []
  }
 ],
 "metadata": {
  "kernelspec": {
   "display_name": "Python [conda env:walkability_env] *",
   "language": "python",
   "name": "conda-env-walkability_env-py"
  },
  "language_info": {
   "codemirror_mode": {
    "name": "ipython",
    "version": 3
   },
   "file_extension": ".py",
   "mimetype": "text/x-python",
   "name": "python",
   "nbconvert_exporter": "python",
   "pygments_lexer": "ipython3",
   "version": "3.6.9"
  }
 },
 "nbformat": 4,
 "nbformat_minor": 2
}
