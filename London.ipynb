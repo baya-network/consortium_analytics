{
 "cells": [
  {
   "cell_type": "code",
   "execution_count": 42,
   "metadata": {},
   "outputs": [],
   "source": [
    "import pandas as pd, numpy as np\n",
    "import requests\n",
    "import geopandas\n",
    "import folium\n",
    "from shapely.geometry import Polygon, Point\n",
    "\n",
    "class BldgFinder:\n",
    "    \n",
    "    city_to_country_mapper = {\"berlin\": \"de\", \"london\": \"gb\",\n",
    "                              \"amsterdam\": \"nl\", \"dublin\": \"ie\",\n",
    "                              \"paris\": \"fr\"}\n",
    "    baya_cols_pop_dict = {'Floors': '', 'Height': '', 'Year Built': '', \n",
    "                          'Year Renovated': '', 'Vacancy Rate': '', 'Total Sqft': '',\n",
    "                          'Type': '', 'Class': '', 'Frontage': '', 'Depth': '',\n",
    "                          'Residential Area': '', 'Office Area': '', 'Retail Area': '',\n",
    "                          'Factory Area': '', 'Garage Area': '', 'Storage Area': '',\n",
    "                          'Other Area': '', 'Amenities': '', 'Photos': ''}\n",
    "    \n",
    "    def __init__(self, city):\n",
    "        try:\n",
    "            self.city = city\n",
    "            self.country = self.city_to_country_mapper[city.lower()]\n",
    "        except KeyError as e:\n",
    "            print(\"City not available. Try one of: Berlin, London, Amsterdam, Dublin, or Paris.\\n{}\".format(e))\n",
    "        \n",
    "        self.bldg_data = self.get_bldg_data()\n",
    "        self.bldg_data = self.make_data_geospatial(self.bldg_data)\n",
    "        print(\"Retrieved {:,} bldgs in {}\".format(self.bldg_data.shape[0], city.capitalize()))\n",
    "        \n",
    "        \n",
    "    def get_bldg_data(self):\n",
    "        try:\n",
    "            comb = pd.read_csv(\"./data/de_gb_nl_ie_fr_bldgs.csv\")\n",
    "            comb = comb.loc[(comb.country == self.country)]\n",
    "            return comb\n",
    "        except KeyError as e:\n",
    "            print(\"Error while importing building data for {}.\\n{}\".format(self.country, e))\n",
    "            \n",
    "            \n",
    "    def make_data_geospatial(self, df):\n",
    "        try:\n",
    "            df.geo.update(df.geo.apply(eval))\n",
    "            # Making a Geopandas from bldg data\n",
    "            df.loc[:, \"geometry\"] = df.geo.apply(lambda x: Polygon(x['coordinates'][0]))\n",
    "            gdf = geopandas.GeoDataFrame(df, geometry=df.geometry)\n",
    "            ## Adding geo-inverted columns (for plotting with folium)\n",
    "            gdf.loc[:, \"geo_inv\"] = gdf.geo.apply(lambda c: [ [(a[1],a[0]) for a in b] for b in c['coordinates']][0])\n",
    "            ## Adding centroid column\n",
    "            # required to look for closest polygon when address does not intersect\n",
    "            gdf.loc[:, \"centroid\"] = gdf.geometry.centroid\n",
    "            return gdf\n",
    "        except Exception as e:\n",
    "            print(\"Error while making bldg data geospatial.\\n{}\".format(e))\n",
    "            \n",
    "        \n",
    "    def _search_address(self, addss):\n",
    "        base_url_nominatim = \"https://nominatim.openstreetmap.org/search\"\n",
    "        try:\n",
    "            params = {\"q\": addss,\n",
    "                      \"format\":\"json\",\n",
    "                      \"polygon_geojson\":1,\n",
    "                      \"addressdetails\":1,\n",
    "                      \"countrycodes\":'{}'.format(self.country)}\n",
    "            r = requests.get(base_url_nominatim, params=params)\n",
    "            return r.json()[0]\n",
    "        except IndexError:\n",
    "            print(\"Address not found.\\nMake sure the address ({}) belongs to {}, {}\".format(addss, self.city.capitalize(), self.country.upper()))\n",
    "        except Exception as e:\n",
    "            print(\"Error while searching for addresses: {}.\\n{}\".format(addss, e))\n",
    "            return np.nan\n",
    "    \n",
    "    \n",
    "    def _get_closest_bldg(self, obj):\n",
    "        df = self.bldg_data\n",
    "        try:\n",
    "            gj = obj['geojson']\n",
    "            if (gj['type'] == 'Point'):\n",
    "                closest_bldg = df[df.geometry.intersects(Point(gj['coordinates']))]\n",
    "\n",
    "                if not closest_bldg.empty:\n",
    "                    return closest_bldg\n",
    "                else:\n",
    "                    closest_bldg = df.loc[df.geometry.distance(Point(gj['coordinates'])).sort_values(ascending=True)[:1].index, :]\n",
    "                    return closest_bldg\n",
    "            else:\n",
    "                closest_bldg = df.loc[df.centroid.distance(Point(float(obj['lon']), float(obj['lat']))).sort_values(ascending=True)[:1].index, :]\n",
    "                return closest_bldg\n",
    "        except Exception as e:\n",
    "            print(\"Error while matching address to building: {}.\\n{}\".format(e))\n",
    "            return np.nan\n",
    "    \n",
    "    \n",
    "    def _create_text_box(self, obj, dfdict):\n",
    "        try:\n",
    "            pophtml = \"\"\"\n",
    "                <h3> {title} </h3>\n",
    "                <b>Baya ID:</b> {bid}<br>\n",
    "                Country: {country}<br>\n",
    "                \"\"\".format(title=', '.join(obj['display_name'].split(',')[:3]), \n",
    "                           bid=dfdict['id'], country=obj['address']['country'])\n",
    "            for k,v in dfdict.items():\n",
    "                if ('id' not in k) and ('country' not in k):\n",
    "                    pophtml = pophtml + \"{}: {}<br>\".format(k,v)\n",
    "            for k,v in self.baya_cols_pop_dict.items():\n",
    "                pophtml = pophtml + \"{}: {}<br>\".format(k,v)\n",
    "            return pophtml\n",
    "        except Exception as e:\n",
    "            print(\"Error while creating pop-up box: {}.\\n{}\".format(e))\n",
    "            return np.nan\n",
    "\n",
    "\n",
    "    def find(self, addss):\n",
    "        obj = self._search_address(addss)\n",
    "        closest_bldg = self._get_closest_bldg(obj)\n",
    "        pophtml = self._create_text_box(obj, closest_bldg.iloc[:, :-3]\\\n",
    "                                     .drop('geo', axis=1).dropna(axis=1).to_dict(orient='rows')[0])\n",
    "        try:\n",
    "            # creates map\n",
    "            bldg_poly = None\n",
    "            gj = obj['geojson']\n",
    "            address = obj['address']\n",
    "\n",
    "            test_map = folium.Map(location=[float(obj['lat']), float(obj['lon'])], zoom_start=16)\n",
    "\n",
    "            obj_point = folium.Marker(location = (float(obj['lat']), float(obj['lon'])), color='red')\n",
    "            obj_point.add_to(test_map)\n",
    "\n",
    "\n",
    "            if (gj['type'] == 'Point'):\n",
    "                # delineates the surrounding/closest bldg polygon\n",
    "                bldg_poly = folium.Polygon(locations = closest_bldg.geo_inv.values.tolist(),\n",
    "                                           color=\"red\", fill=True, fill_color='#FF0000',\n",
    "                                           tooltip=folium.Tooltip(', '.join(obj['display_name'].split(',')[:3])),\n",
    "                                           popup=folium.Popup(pophtml, max_width=300))\n",
    "                bldg_poly.add_to(test_map)\n",
    "\n",
    "            if (gj['type'] == 'Polygon' and not bldg_poly):\n",
    "                obj_poly = folium.Polygon(locations = [[ (a[1],a[0]) for a in b] for b in gj['coordinates']], \n",
    "                                          color=\"red\", fill=True, fill_color='#FF0000',\n",
    "                                          tooltip=folium.Tooltip(', '.join(obj['display_name'].split(',')[:3])),\n",
    "                                          popup=folium.Popup(pophtml, max_width=300))\n",
    "                obj_poly.add_to(test_map)\n",
    "\n",
    "            display(test_map)\n",
    "            \n",
    "        except Exception as e:\n",
    "            print(\"Error while displaying bldg on map.\\n{}\".format(e))"
   ]
  },
  {
   "cell_type": "code",
   "execution_count": 43,
   "metadata": {},
   "outputs": [
    {
     "name": "stdout",
     "output_type": "stream",
     "text": [
      "Retrieved 20,458 bldgs in London\n"
     ]
    }
   ],
   "source": [
    "# from utilities.BldgFinder import BldgFinder\n",
    "mapper = BldgFinder('London')"
   ]
  },
  {
   "cell_type": "code",
   "execution_count": 44,
   "metadata": {},
   "outputs": [
    {
     "data": {
      "text/html": [
       "<div style=\"width:100%;\"><div style=\"position:relative;width:100%;height:0;padding-bottom:60%;\"><iframe src=\"data:text/html;charset=utf-8;base64,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\" style=\"position:absolute;width:100%;height:100%;left:0;top:0;border:none !important;\" allowfullscreen webkitallowfullscreen mozallowfullscreen></iframe></div></div>"
      ],
      "text/plain": [
       "<folium.folium.Map at 0x130b9add8>"
      ]
     },
     "metadata": {},
     "output_type": "display_data"
    }
   ],
   "source": [
    "mapper.find(\"The Nadler london\")"
   ]
  },
  {
   "cell_type": "code",
   "execution_count": null,
   "metadata": {},
   "outputs": [],
   "source": []
  },
  {
   "cell_type": "code",
   "execution_count": null,
   "metadata": {},
   "outputs": [],
   "source": []
  },
  {
   "cell_type": "code",
   "execution_count": 36,
   "metadata": {},
   "outputs": [],
   "source": [
    "def _create_text_box(obj, dfdict, baya_dict):\n",
    "        pophtml = \"\"\"\n",
    "            <h3> {title} </h3>\n",
    "            <b>Baya ID:</b> {bid}<br>\n",
    "            Country: {country}<br>\n",
    "            \"\"\".format(title=', '.join(obj['display_name'].split(',')[:3]), \n",
    "                       bid=dfdict['id'], country=obj['address']['country'])\n",
    "        for k,v in dfdict.items():\n",
    "            if ('id' not in k) and ('country' not in k):\n",
    "                pophtml = pophtml + \"{}: {}<br>\".format(k,v)\n",
    "        for k,v in baya_dict.items():\n",
    "            pophtml = pophtml + \"{}: {}<br>\".format(k,v)\n",
    "        return pophtml "
   ]
  },
  {
   "cell_type": "code",
   "execution_count": 37,
   "metadata": {},
   "outputs": [],
   "source": [
    "obj = mapper._search_address(\"the nadler london\")"
   ]
  },
  {
   "cell_type": "code",
   "execution_count": 38,
   "metadata": {},
   "outputs": [],
   "source": [
    "closest_building = mapper._get_closest_bldg(obj)"
   ]
  },
  {
   "cell_type": "code",
   "execution_count": null,
   "metadata": {},
   "outputs": [],
   "source": []
  },
  {
   "cell_type": "code",
   "execution_count": 39,
   "metadata": {},
   "outputs": [
    {
     "data": {
      "text/plain": [
       "'\\n            <h3> The Nadler,  10,  Carlisle Street </h3>\\n            <b>Baya ID:</b> 288392855<br>\\n            Country: UK<br>\\n            levels: 5.0<br>name: The Nadler<br>Floors: <br>Height: <br>Year Built: <br>Year Renovated: <br>Vacancy Rate: <br>Total Sqft: <br>Type: <br>Class: <br>Frontage: <br>Depth: <br>Residential Area: <br>Office Area: <br>Retail Area: <br>Factory Area: <br>Garage Area: <br>Storage Area: <br>Other Area: <br>Amenities: <br>Photos: <br>'"
      ]
     },
     "execution_count": 39,
     "metadata": {},
     "output_type": "execute_result"
    }
   ],
   "source": [
    "_create_text_box(obj, \n",
    "                 closest_building.iloc[:, :-3].drop('geo', axis=1).dropna(axis=1).to_dict(orient='rows')[0], \n",
    "                 baya_cols_pop_dict)\n",
    "\n",
    "\n"
   ]
  },
  {
   "cell_type": "code",
   "execution_count": 15,
   "metadata": {},
   "outputs": [],
   "source": [
    "baya_cols = [\"Floors\", \"Height\", \"Year Built\", \"Year Renovated\", \"Vacancy Rate\", \n",
    "    \"Total Sqft\", \"Type\", \"Class\", \"Frontage\", \"Depth\", \"Residential Area\", \"Office Area\", \"Retail Area\", \n",
    "     \"Factory Area\", \"Garage Area\", \"Storage Area\", \"Other Area\", \"Amenities\", \"Photos\"]"
   ]
  },
  {
   "cell_type": "code",
   "execution_count": 24,
   "metadata": {},
   "outputs": [],
   "source": [
    "baya_cols_pop_dict = dict(zip(baya_cols, spaces))"
   ]
  },
  {
   "cell_type": "code",
   "execution_count": 21,
   "metadata": {},
   "outputs": [
    {
     "data": {
      "text/plain": [
       "19"
      ]
     },
     "execution_count": 21,
     "metadata": {},
     "output_type": "execute_result"
    }
   ],
   "source": [
    "len(baya_cols, spaces)"
   ]
  },
  {
   "cell_type": "code",
   "execution_count": 22,
   "metadata": {},
   "outputs": [],
   "source": [
    "spaces = [''] * 19"
   ]
  },
  {
   "cell_type": "code",
   "execution_count": 40,
   "metadata": {},
   "outputs": [
    {
     "data": {
      "text/plain": [
       "{'Floors': '',\n",
       " 'Height': '',\n",
       " 'Year Built': '',\n",
       " 'Year Renovated': '',\n",
       " 'Vacancy Rate': '',\n",
       " 'Total Sqft': '',\n",
       " 'Type': '',\n",
       " 'Class': '',\n",
       " 'Frontage': '',\n",
       " 'Depth': '',\n",
       " 'Residential Area': '',\n",
       " 'Office Area': '',\n",
       " 'Retail Area': '',\n",
       " 'Factory Area': '',\n",
       " 'Garage Area': '',\n",
       " 'Storage Area': '',\n",
       " 'Other Area': '',\n",
       " 'Amenities': '',\n",
       " 'Photos': ''}"
      ]
     },
     "execution_count": 40,
     "metadata": {},
     "output_type": "execute_result"
    }
   ],
   "source": [
    "baya_cols_pop_dict"
   ]
  },
  {
   "cell_type": "code",
   "execution_count": null,
   "metadata": {},
   "outputs": [],
   "source": []
  }
 ],
 "metadata": {
  "kernelspec": {
   "display_name": "Python [conda env:walkability_env] *",
   "language": "python",
   "name": "conda-env-walkability_env-py"
  },
  "language_info": {
   "codemirror_mode": {
    "name": "ipython",
    "version": 3
   },
   "file_extension": ".py",
   "mimetype": "text/x-python",
   "name": "python",
   "nbconvert_exporter": "python",
   "pygments_lexer": "ipython3",
   "version": "3.6.9"
  }
 },
 "nbformat": 4,
 "nbformat_minor": 2
}
