{
 "cells": [
  {
   "cell_type": "code",
   "execution_count": 1,
   "metadata": {},
   "outputs": [
    {
     "name": "stdout",
     "output_type": "stream",
     "text": [
      "Retrieved 20,458 bldgs in London\n"
     ]
    }
   ],
   "source": [
    "from utilities.BldgFinder import BldgFinder\n",
    "mapper = BldgFinder('London')"
   ]
  },
  {
   "cell_type": "code",
   "execution_count": 2,
   "metadata": {},
   "outputs": [
    {
     "data": {
      "text/html": [
       "<div style=\"width:100%;\"><div style=\"position:relative;width:100%;height:0;padding-bottom:60%;\"><iframe src=\"data:text/html;charset=utf-8;base64,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\" style=\"position:absolute;width:100%;height:100%;left:0;top:0;border:none !important;\" allowfullscreen webkitallowfullscreen mozallowfullscreen></iframe></div></div>"
      ],
      "text/plain": [
       "<folium.folium.Map at 0x1155e9d10>"
      ]
     },
     "metadata": {},
     "output_type": "display_data"
    }
   ],
   "source": [
    "mapper.find(\"9 Bloomsbury Street\")"
   ]
  },
  {
   "cell_type": "code",
   "execution_count": 4,
   "metadata": {},
   "outputs": [
    {
     "data": {
      "text/html": [
       "<div style=\"width:100%;\"><div style=\"position:relative;width:100%;height:0;padding-bottom:60%;\"><iframe src=\"data:text/html;charset=utf-8;base64,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\" style=\"position:absolute;width:100%;height:100%;left:0;top:0;border:none !important;\" allowfullscreen webkitallowfullscreen mozallowfullscreen></iframe></div></div>"
      ],
      "text/plain": [
       "<folium.folium.Map at 0x11a9197d0>"
      ]
     },
     "metadata": {},
     "output_type": "display_data"
    }
   ],
   "source": [
    "mapper.find(\"the nadler london\")"
   ]
  },
  {
   "cell_type": "code",
   "execution_count": 5,
   "metadata": {},
   "outputs": [
    {
     "name": "stdout",
     "output_type": "stream",
     "text": [
      "Address not found.\n",
      "Make sure the address (the nadler convent garden) belongs to London, GB\n"
     ]
    },
    {
     "ename": "IndexError",
     "evalue": "tuple index out of range",
     "output_type": "error",
     "traceback": [
      "\u001b[0;31m---------------------------------------------------------------------------\u001b[0m",
      "\u001b[0;31mTypeError\u001b[0m                                 Traceback (most recent call last)",
      "\u001b[0;32m~/workspace/consortium_analytics/utilities/BldgFinder.py\u001b[0m in \u001b[0;36m_get_closest_bldg\u001b[0;34m(self, obj)\u001b[0m\n\u001b[1;32m     75\u001b[0m         \u001b[0;32mtry\u001b[0m\u001b[0;34m:\u001b[0m\u001b[0;34m\u001b[0m\u001b[0;34m\u001b[0m\u001b[0m\n\u001b[0;32m---> 76\u001b[0;31m             \u001b[0mgj\u001b[0m \u001b[0;34m=\u001b[0m \u001b[0mobj\u001b[0m\u001b[0;34m[\u001b[0m\u001b[0;34m'geojson'\u001b[0m\u001b[0;34m]\u001b[0m\u001b[0;34m\u001b[0m\u001b[0;34m\u001b[0m\u001b[0m\n\u001b[0m\u001b[1;32m     77\u001b[0m             \u001b[0;32mif\u001b[0m \u001b[0;34m(\u001b[0m\u001b[0mgj\u001b[0m\u001b[0;34m[\u001b[0m\u001b[0;34m'type'\u001b[0m\u001b[0;34m]\u001b[0m \u001b[0;34m==\u001b[0m \u001b[0;34m'Point'\u001b[0m\u001b[0;34m)\u001b[0m\u001b[0;34m:\u001b[0m\u001b[0;34m\u001b[0m\u001b[0;34m\u001b[0m\u001b[0m\n",
      "\u001b[0;31mTypeError\u001b[0m: 'NoneType' object is not subscriptable",
      "\nDuring handling of the above exception, another exception occurred:\n",
      "\u001b[0;31mIndexError\u001b[0m                                Traceback (most recent call last)",
      "\u001b[0;32m<ipython-input-5-2dfd55e53065>\u001b[0m in \u001b[0;36m<module>\u001b[0;34m\u001b[0m\n\u001b[0;32m----> 1\u001b[0;31m \u001b[0mmapper\u001b[0m\u001b[0;34m.\u001b[0m\u001b[0mfind\u001b[0m\u001b[0;34m(\u001b[0m\u001b[0;34m\"the nadler convent garden\"\u001b[0m\u001b[0;34m)\u001b[0m\u001b[0;34m\u001b[0m\u001b[0;34m\u001b[0m\u001b[0m\n\u001b[0m",
      "\u001b[0;32m~/workspace/consortium_analytics/utilities/BldgFinder.py\u001b[0m in \u001b[0;36mfind\u001b[0;34m(self, addss)\u001b[0m\n\u001b[1;32m    112\u001b[0m     \u001b[0;32mdef\u001b[0m \u001b[0mfind\u001b[0m\u001b[0;34m(\u001b[0m\u001b[0mself\u001b[0m\u001b[0;34m,\u001b[0m \u001b[0maddss\u001b[0m\u001b[0;34m)\u001b[0m\u001b[0;34m:\u001b[0m\u001b[0;34m\u001b[0m\u001b[0;34m\u001b[0m\u001b[0m\n\u001b[1;32m    113\u001b[0m         \u001b[0mobj\u001b[0m \u001b[0;34m=\u001b[0m \u001b[0mself\u001b[0m\u001b[0;34m.\u001b[0m\u001b[0m_search_address\u001b[0m\u001b[0;34m(\u001b[0m\u001b[0maddss\u001b[0m\u001b[0;34m)\u001b[0m\u001b[0;34m\u001b[0m\u001b[0;34m\u001b[0m\u001b[0m\n\u001b[0;32m--> 114\u001b[0;31m         \u001b[0mclosest_bldg\u001b[0m \u001b[0;34m=\u001b[0m \u001b[0mself\u001b[0m\u001b[0;34m.\u001b[0m\u001b[0m_get_closest_bldg\u001b[0m\u001b[0;34m(\u001b[0m\u001b[0mobj\u001b[0m\u001b[0;34m)\u001b[0m\u001b[0;34m\u001b[0m\u001b[0;34m\u001b[0m\u001b[0m\n\u001b[0m\u001b[1;32m    115\u001b[0m         pophtml = self._create_text_box(obj, closest_bldg.iloc[:, :-3]\\\n\u001b[1;32m    116\u001b[0m                                      .drop('geo', axis=1).dropna(axis=1).to_dict(orient='rows')[0])\n",
      "\u001b[0;32m~/workspace/consortium_analytics/utilities/BldgFinder.py\u001b[0m in \u001b[0;36m_get_closest_bldg\u001b[0;34m(self, obj)\u001b[0m\n\u001b[1;32m     87\u001b[0m                 \u001b[0;32mreturn\u001b[0m \u001b[0mclosest_bldg\u001b[0m\u001b[0;34m\u001b[0m\u001b[0;34m\u001b[0m\u001b[0m\n\u001b[1;32m     88\u001b[0m         \u001b[0;32mexcept\u001b[0m \u001b[0mException\u001b[0m \u001b[0;32mas\u001b[0m \u001b[0me\u001b[0m\u001b[0;34m:\u001b[0m\u001b[0;34m\u001b[0m\u001b[0;34m\u001b[0m\u001b[0m\n\u001b[0;32m---> 89\u001b[0;31m             \u001b[0mprint\u001b[0m\u001b[0;34m(\u001b[0m\u001b[0;34m\"Error while matching address to building: {}.\\n{}\"\u001b[0m\u001b[0;34m.\u001b[0m\u001b[0mformat\u001b[0m\u001b[0;34m(\u001b[0m\u001b[0me\u001b[0m\u001b[0;34m)\u001b[0m\u001b[0;34m)\u001b[0m\u001b[0;34m\u001b[0m\u001b[0;34m\u001b[0m\u001b[0m\n\u001b[0m\u001b[1;32m     90\u001b[0m             \u001b[0;32mreturn\u001b[0m \u001b[0mnp\u001b[0m\u001b[0;34m.\u001b[0m\u001b[0mnan\u001b[0m\u001b[0;34m\u001b[0m\u001b[0;34m\u001b[0m\u001b[0m\n\u001b[1;32m     91\u001b[0m \u001b[0;34m\u001b[0m\u001b[0m\n",
      "\u001b[0;31mIndexError\u001b[0m: tuple index out of range"
     ]
    }
   ],
   "source": [
    "mapper.find(\"the nadler convent garden\")"
   ]
  },
  {
   "cell_type": "code",
   "execution_count": null,
   "metadata": {},
   "outputs": [],
   "source": []
  }
 ],
 "metadata": {
  "kernelspec": {
   "display_name": "Python 3",
   "language": "python",
   "name": "python3"
  },
  "language_info": {
   "codemirror_mode": {
    "name": "ipython",
    "version": 3
   },
   "file_extension": ".py",
   "mimetype": "text/x-python",
   "name": "python",
   "nbconvert_exporter": "python",
   "pygments_lexer": "ipython3",
   "version": "3.7.4"
  }
 },
 "nbformat": 4,
 "nbformat_minor": 2
}
