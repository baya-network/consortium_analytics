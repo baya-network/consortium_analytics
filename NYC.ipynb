{
 "cells": [
  {
   "cell_type": "code",
   "execution_count": 1,
   "metadata": {},
   "outputs": [],
   "source": [
    "from utilities.address_tools_demo import *\n",
    "import warnings\n",
    "warnings.filterwarnings('ignore')\n",
    "from utilities.Building_demo import Building\n",
    "from utilities.Market_demo import Market\n",
    "address = \"100 park avenue\""
   ]
  },
  {
   "cell_type": "code",
   "execution_count": 2,
   "metadata": {},
   "outputs": [
    {
     "name": "stdout",
     "output_type": "stream",
     "text": [
      "100 park avenue\n",
      "(u'100 Park Avenue', u'MN', 10017.0, u'NY', 967353.75, 1950.0, 0, u'70e8bf0b-fb54-4b12-819a-728718c9d697')\n"
     ]
    }
   ],
   "source": [
    "# Define building\n",
    "bldg = Building(get_ry_id_for_address(address))"
   ]
  },
  {
   "cell_type": "code",
   "execution_count": 3,
   "metadata": {},
   "outputs": [
    {
     "data": {
      "text/html": [
       "<div style=\"width:100%;\"><div style=\"position:relative;width:100%;height:0;padding-bottom:60%;\"><iframe src=\"data:text/html;charset=utf-8;base64,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\" style=\"position:absolute;width:100%;height:100%;left:0;top:0;border:none !important;\" allowfullscreen webkitallowfullscreen mozallowfullscreen></iframe></div></div>"
      ],
      "text/plain": [
       "<folium.folium.Map at 0x10f26ffd0>"
      ]
     },
     "metadata": {},
     "output_type": "display_data"
    }
   ],
   "source": [
    "bldg.make_map()"
   ]
  },
  {
   "cell_type": "markdown",
   "metadata": {},
   "source": [
    "## Comparable Buildings"
   ]
  },
  {
   "cell_type": "code",
   "execution_count": null,
   "metadata": {
    "scrolled": false
   },
   "outputs": [
    {
     "name": "stdout",
     "output_type": "stream",
     "text": [
      "(u'295 Madison Avenue', u'MN', 10017.0, u'NY', 373305.0, 1929.0, 0, u'de6cb0ad-233d-4d7a-86f4-ed0aef70e8ab')\n"
     ]
    }
   ],
   "source": [
    "surrounding_bldgs = bldg.get_surrounding_bldgs(0.1, 5)\n",
    "bldg.show_surrounding_locations(surrounding_bldgs)"
   ]
  },
  {
   "cell_type": "markdown",
   "metadata": {},
   "source": [
    "## Lease Comps"
   ]
  },
  {
   "cell_type": "code",
   "execution_count": null,
   "metadata": {},
   "outputs": [],
   "source": [
    "bldg.show_lease_comps()"
   ]
  },
  {
   "cell_type": "code",
   "execution_count": null,
   "metadata": {
    "scrolled": false
   },
   "outputs": [],
   "source": [
    "bldg.get_surrounding_current_leases(surrounding_bldgs)"
   ]
  },
  {
   "cell_type": "code",
   "execution_count": null,
   "metadata": {},
   "outputs": [],
   "source": []
  },
  {
   "cell_type": "code",
   "execution_count": null,
   "metadata": {},
   "outputs": [],
   "source": []
  },
  {
   "cell_type": "code",
   "execution_count": null,
   "metadata": {},
   "outputs": [],
   "source": []
  }
 ],
 "metadata": {
  "kernelspec": {
   "display_name": "NYC Cons Anlyt",
   "language": "python",
   "name": "ny_ca_env"
  },
  "language_info": {
   "codemirror_mode": {
    "name": "ipython",
    "version": 2
   },
   "file_extension": ".py",
   "mimetype": "text/x-python",
   "name": "python",
   "nbconvert_exporter": "python",
   "pygments_lexer": "ipython2",
   "version": "2.7.16"
  }
 },
 "nbformat": 4,
 "nbformat_minor": 2
}
