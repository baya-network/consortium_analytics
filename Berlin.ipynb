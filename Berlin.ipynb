{
 "cells": [
  {
   "cell_type": "code",
   "execution_count": 9,
   "metadata": {},
   "outputs": [
    {
     "ename": "ModuleNotFoundError",
     "evalue": "No module named 'BldgFinder'",
     "output_type": "error",
     "traceback": [
      "\u001b[0;31m---------------------------------------------------------------------------\u001b[0m",
      "\u001b[0;31mModuleNotFoundError\u001b[0m                       Traceback (most recent call last)",
      "\u001b[0;32m<ipython-input-9-ecdaaaab2640>\u001b[0m in \u001b[0;36m<module>\u001b[0;34m\u001b[0m\n\u001b[0;32m----> 1\u001b[0;31m \u001b[0;32mfrom\u001b[0m \u001b[0mBldgFinder\u001b[0m \u001b[0;32mimport\u001b[0m \u001b[0mBldgFinder\u001b[0m\u001b[0;34m\u001b[0m\u001b[0;34m\u001b[0m\u001b[0m\n\u001b[0m\u001b[1;32m      2\u001b[0m \u001b[0mmapper\u001b[0m \u001b[0;34m=\u001b[0m \u001b[0mBldgFinder\u001b[0m\u001b[0;34m(\u001b[0m\u001b[0;34m'21 Mittelstraße Berlin 10117 DE'\u001b[0m\u001b[0;34m)\u001b[0m\u001b[0;34m\u001b[0m\u001b[0;34m\u001b[0m\u001b[0m\n",
      "\u001b[0;31mModuleNotFoundError\u001b[0m: No module named 'BldgFinder'"
     ]
    }
   ],
   "source": [
    "from BldgFinder import BldgFinder\n",
    "mapper = BldgFinder('21 Mittelstraße Berlin 10117 DE')"
   ]
  },
  {
   "cell_type": "code",
   "execution_count": 130,
   "metadata": {},
   "outputs": [
    {
     "name": "stdout",
     "output_type": "stream",
     "text": [
      "poly: centroid to centroid closest bldg\n"
     ]
    },
    {
     "data": {
      "text/html": [
       "<div style=\"width:100%;\"><div style=\"position:relative;width:100%;height:0;padding-bottom:60%;\"><iframe src=\"data:text/html;charset=utf-8;base64,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\" style=\"position:absolute;width:100%;height:100%;left:0;top:0;border:none !important;\" allowfullscreen webkitallowfullscreen mozallowfullscreen></iframe></div></div>"
      ],
      "text/plain": [
       "<folium.folium.Map at 0x11c51fe10>"
      ]
     },
     "metadata": {},
     "output_type": "display_data"
    }
   ],
   "source": [
    "mapper.find(\"9 Bloomsbury Street\")"
   ]
  },
  {
   "cell_type": "code",
   "execution_count": null,
   "metadata": {},
   "outputs": [],
   "source": []
  },
  {
   "cell_type": "code",
   "execution_count": null,
   "metadata": {},
   "outputs": [],
   "source": []
  }
 ],
 "metadata": {
  "kernelspec": {
   "display_name": "Python [conda env:walkability_env] *",
   "language": "python",
   "name": "conda-env-walkability_env-py"
  },
  "language_info": {
   "codemirror_mode": {
    "name": "ipython",
    "version": 3
   },
   "file_extension": ".py",
   "mimetype": "text/x-python",
   "name": "python",
   "nbconvert_exporter": "python",
   "pygments_lexer": "ipython3",
   "version": "3.6.9"
  }
 },
 "nbformat": 4,
 "nbformat_minor": 2
}
